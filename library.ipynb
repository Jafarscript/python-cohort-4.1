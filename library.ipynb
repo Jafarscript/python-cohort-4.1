{
 "cells": [
  {
   "cell_type": "code",
   "execution_count": 2,
   "metadata": {},
   "outputs": [
    {
     "name": "stdout",
     "output_type": "stream",
     "text": [
      "John\n"
     ]
    }
   ],
   "source": [
    "student = {\n",
    "    'name' : 'John',\n",
    "    'age'  : 20,\n",
    "    'courses' : ['Math', \"CompSci\"],\n",
    "    'grade' : 'A'\n",
    "}\n",
    "\n",
    "student['age'] = 22\n",
    "print(student['name'])\n"
   ]
  },
  {
   "cell_type": "code",
   "execution_count": 6,
   "metadata": {},
   "outputs": [
    {
     "data": {
      "text/plain": [
       "dict_values([10, 8])"
      ]
     },
     "execution_count": 6,
     "metadata": {},
     "output_type": "execute_result"
    }
   ],
   "source": [
    "inventory = {\n",
    "    'apples': 10,\n",
    "    'bananas' : 5,\n",
    "    'oranges' : 8\n",
    "}\n",
    "\n",
    "\n",
    "inventory.get('apples')\n",
    "inventory.pop('bananas')\n",
    "inventory.keys()\n",
    "inventory.values()"
   ]
  },
  {
   "cell_type": "code",
   "execution_count": 8,
   "metadata": {},
   "outputs": [
    {
     "data": {
      "text/plain": [
       "22"
      ]
     },
     "execution_count": 8,
     "metadata": {},
     "output_type": "execute_result"
    }
   ],
   "source": [
    "classroom = {\n",
    "'student1': {'name': 'Alice', 'age': 20},\n",
    "'student2': {'name': 'Bob', 'age': 22}\n",
    "}\n",
    "\n",
    "classroom['student3'] = {'name': 'Charlie', 'age' : 23}\n",
    "\n",
    "classroom['student2']['age']"
   ]
  },
  {
   "cell_type": "code",
   "execution_count": 11,
   "metadata": {},
   "outputs": [
    {
     "name": "stdout",
     "output_type": "stream",
     "text": [
      "The price of apple is 0.5\n",
      "The price of banana is 0.3\n",
      "The price of orange is 0.7\n"
     ]
    }
   ],
   "source": [
    "prices = {\n",
    "    'apple': 0.5,\n",
    "    'banana': 0.3,\n",
    "    'orange': 0.7\n",
    "}\n",
    "\n",
    "\n",
    "for item in prices:\n",
    "    print('The price of', item,'is', prices.get(item) )"
   ]
  },
  {
   "cell_type": "code",
   "execution_count": 43,
   "metadata": {},
   "outputs": [
    {
     "name": "stdout",
     "output_type": "stream",
     "text": [
      "{'name': 'Dave', 'city': 'New York', 'age': 30}\n"
     ]
    }
   ],
   "source": [
    "person = {\n",
    "    'name': 'Dave',\n",
    "    'city' : 'New York'\n",
    "}\n",
    "\n",
    "\n",
    "\n",
    "if 'age' in person.keys():\n",
    "    print(\"Yes\")\n",
    "else:\n",
    "    person['age'] = 30\n",
    "    \n",
    "\n",
    "print(person)"
   ]
  }
 ],
 "metadata": {
  "kernelspec": {
   "display_name": "base",
   "language": "python",
   "name": "python3"
  },
  "language_info": {
   "codemirror_mode": {
    "name": "ipython",
    "version": 3
   },
   "file_extension": ".py",
   "mimetype": "text/x-python",
   "name": "python",
   "nbconvert_exporter": "python",
   "pygments_lexer": "ipython3",
   "version": "3.11.5"
  }
 },
 "nbformat": 4,
 "nbformat_minor": 2
}
