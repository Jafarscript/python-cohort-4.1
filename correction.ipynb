{
 "cells": [
  {
   "cell_type": "code",
   "execution_count": 21,
   "metadata": {},
   "outputs": [
    {
     "name": "stdout",
     "output_type": "stream",
     "text": [
      "1\n",
      "2\n",
      "Fizz\n",
      "4\n",
      "Buzz\n",
      "Fizz\n",
      "7\n",
      "8\n",
      "Fizz\n",
      "Buzz\n",
      "11\n",
      "Fizz\n",
      "13\n",
      "14\n",
      "FizzBuzz\n"
     ]
    }
   ],
   "source": [
    "def fizzbuzz(n):\n",
    "    for i in range(1, n+1):\n",
    "        if i % 3 == 0 and i % 5 == 0:\n",
    "            print('FizzBuzz')\n",
    "            break\n",
    "        elif i % 3 == 0:\n",
    "            print(\"Fizz\")\n",
    "        elif i % 5 == 0:\n",
    "            print(\"Buzz\")\n",
    "        else:\n",
    "            print(i)\n",
    "    else:\n",
    "        print(\"Loop finished without a break\")\n",
    "\n",
    "\n",
    "fizzbuzz(10)"
   ]
  },
  {
   "cell_type": "code",
   "execution_count": 39,
   "metadata": {},
   "outputs": [
    {
     "name": "stdout",
     "output_type": "stream",
     "text": [
      "2\n",
      "3\n",
      "4\n",
      "5\n",
      "6\n"
     ]
    }
   ],
   "source": [
    "numbers = [1, 2,3, 4, 5,6,7,8,9, 10]\n",
    "\n",
    "for num in numbers:\n",
    "    if num == 6:\n",
    "        break\n",
    "    print(num)"
   ]
  },
  {
   "cell_type": "code",
   "execution_count": 40,
   "metadata": {},
   "outputs": [
    {
     "name": "stdout",
     "output_type": "stream",
     "text": [
      "2\n",
      "4\n",
      "8\n",
      "10\n"
     ]
    }
   ],
   "source": [
    "for number in numbers:\n",
    "    if number == 6:\n",
    "        continue\n",
    "    if number % 2 == 0:\n",
    "        print(number)"
   ]
  },
  {
   "cell_type": "code",
   "execution_count": 48,
   "metadata": {},
   "outputs": [
    {
     "name": "stdout",
     "output_type": "stream",
     "text": [
      "1\n",
      "2\n",
      "3\n",
      "4\n",
      "5\n",
      "6\n",
      "7\n",
      "8\n",
      "9\n",
      "10\n"
     ]
    }
   ],
   "source": [
    "for number in numbers:\n",
    "    if number == 11:\n",
    "        break\n",
    "    print(number)\n",
    "else:\n",
    "    print('All numbers processed')"
   ]
  },
  {
   "cell_type": "code",
   "execution_count": 71,
   "metadata": {},
   "outputs": [],
   "source": [
    "\n",
    "def try_expect():\n",
    "    try: \n",
    "        num = int(input(\"Enter a number\"))\n",
    "\n",
    "        if num > 10:\n",
    "           print(\"Yes\")\n",
    "        else:\n",
    "           print('NO')\n",
    "    except Exception as e:\n",
    "        print(\"Invalid input, Please input a number\", e)"
   ]
  },
  {
   "cell_type": "code",
   "execution_count": 72,
   "metadata": {},
   "outputs": [
    {
     "name": "stdout",
     "output_type": "stream",
     "text": [
      "Invalid input, Please input a number invalid literal for int() with base 10: 'ggg'\n"
     ]
    }
   ],
   "source": [
    "try_expect()"
   ]
  },
  {
   "cell_type": "markdown",
   "metadata": {},
   "source": [
    "Write a Python program that asks the user to input a series of numbers. The program should then:\n",
    "1. Print the sum of all the numbers entered.\n",
    "2. If the sum exceeds 100, print a message saying \"Sum exceeds 100\" and stop adding numbers.\n",
    "3. If the user enters a negative number, skip it and continue adding the next numbers.\n",
    "4. Once the user enters 'done', print the final sum and exit the program.\n",
    "\n",
    "Remember to use ```break ```, ```continue ```, and ```else``` statements appropriately. Good luck!\n",
    "\n",
    "Algorithm:\n",
    "\n",
    "1. Initialize a variable ```total_sum``` to store the sum of numbers.\n",
    "2. Use a while loop with ```True``` condition to repeatedly prompt the user for input.\n",
    "```while True:```\n",
    "3. Inside the loop:\n",
    "- Get user input.\n",
    "``` user_input = input(\"Prompt Message\")```\n",
    "- If the input is 'done', print the final sum and exit the loop using break.\n",
    "- Use a ```try``` block to convert the input to an integer. If it's not a valid integer, print an error message and continue to the next iteration.\n",
    "- Check if the number is negative. If it is, print a message and continue to the next iteration.\n",
    "- Add the number to the ```total_sum``` and print the current sum.\n",
    "- Check if the ```total_sum``` exceeds 100. If it does, print a message and exit the loop using break.\n",
    "- After the loop, print the final sum."
   ]
  },
  {
   "cell_type": "code",
   "execution_count": 74,
   "metadata": {},
   "outputs": [
    {
     "name": "stdout",
     "output_type": "stream",
     "text": [
      "Current Sum = 60\n",
      "Current Sum = 100\n",
      "Current Sum = 110\n",
      "Sum exceeds 100\n",
      "110\n"
     ]
    }
   ],
   "source": [
    "total_sum = 0\n",
    "\n",
    "while True:\n",
    "    user_input = input(\"Enter a number or done\")\n",
    "    if user_input == 'done':\n",
    "        print(total_sum)\n",
    "        break\n",
    "\n",
    "    try:\n",
    "        number = int(user_input)\n",
    "    except ValueError:\n",
    "        print('Invalid input')\n",
    "        continue\n",
    "\n",
    "    if number < 0:\n",
    "        print(\"Don't input a negative number\")\n",
    "        continue\n",
    "\n",
    "    total_sum += number # total_sum = number + total_sum\n",
    "    print('Current Sum =', total_sum)\n",
    "\n",
    "    if total_sum > 100:\n",
    "        print('Sum exceeds 100')\n",
    "        break\n",
    "    \n",
    "\n",
    "\n",
    "print(total_sum)"
   ]
  },
  {
   "cell_type": "code",
   "execution_count": 3,
   "metadata": {},
   "outputs": [
    {
     "name": "stdout",
     "output_type": "stream",
     "text": [
      "1\n",
      "4\n",
      "9\n",
      "16\n",
      "25\n"
     ]
    }
   ],
   "source": [
    "for x in range(1,6):\n",
    "    print(x**2)"
   ]
  },
  {
   "cell_type": "code",
   "execution_count": 13,
   "metadata": {},
   "outputs": [],
   "source": [
    "squared_numbers = [x**2 for x in range(1, 15)]\n",
    "\n",
    "\n",
    "squared_of_even_numbers = [x for x in squared_numbers if x % 2 == 0]"
   ]
  },
  {
   "cell_type": "code",
   "execution_count": 14,
   "metadata": {},
   "outputs": [
    {
     "name": "stdout",
     "output_type": "stream",
     "text": [
      "[4, 16, 36, 64, 100, 144, 196]\n"
     ]
    }
   ],
   "source": [
    "print(squared_of_even_numbers)"
   ]
  },
  {
   "cell_type": "code",
   "execution_count": 17,
   "metadata": {},
   "outputs": [],
   "source": [
    "listed = []\n",
    "for x in range(1,11):\n",
    "    if x**2 % 2 == 0:\n",
    "       listed.append(x**2)"
   ]
  },
  {
   "cell_type": "code",
   "execution_count": 18,
   "metadata": {},
   "outputs": [
    {
     "name": "stdout",
     "output_type": "stream",
     "text": [
      "[4, 16, 36, 64, 100]\n"
     ]
    }
   ],
   "source": [
    "print(listed)"
   ]
  },
  {
   "cell_type": "code",
   "execution_count": 35,
   "metadata": {},
   "outputs": [],
   "source": [
    "matrix = [[1, 2, 3], [4, 5, 6], [7, 8, 9]]\n",
    "flattened_matrix = [x for j in matrix for x in j]\n",
    "\n",
    "# print(matrix)\n",
    "\n",
    "# for row in matrix:\n",
    "#     print(row)\n",
    "#     for x in row:\n",
    "#         print(x)\n",
    "#     for y in x:\n",
    "#         print(y)\n",
    "#         flattened_matrix.append(y)\n",
    "\n"
   ]
  },
  {
   "cell_type": "code",
   "execution_count": 25,
   "metadata": {},
   "outputs": [
    {
     "name": "stdout",
     "output_type": "stream",
     "text": [
      "[1, 2, 3, 4, 5, 6, 7, 8, 9]\n"
     ]
    }
   ],
   "source": [
    "print(flattened_matrix)\n"
   ]
  },
  {
   "cell_type": "code",
   "execution_count": 38,
   "metadata": {},
   "outputs": [
    {
     "name": "stdout",
     "output_type": "stream",
     "text": [
      "Hello World\n",
      "jafar\n"
     ]
    }
   ],
   "source": []
  },
  {
   "cell_type": "code",
   "execution_count": null,
   "metadata": {},
   "outputs": [],
   "source": []
  },
  {
   "cell_type": "code",
   "execution_count": 45,
   "metadata": {},
   "outputs": [
    {
     "name": "stdout",
     "output_type": "stream",
     "text": [
      "l\n"
     ]
    }
   ],
   "source": [
    "greeting = \"Hello\"\n",
    "name = \"Alice\"\n",
    "message = greeting + ', ' + name + \"!\"\n",
    "\n",
    "print(message[8])"
   ]
  },
  {
   "cell_type": "code",
   "execution_count": 47,
   "metadata": {},
   "outputs": [
    {
     "name": "stdout",
     "output_type": "stream",
     "text": [
      "['Hello', 'Jafar']\n"
     ]
    }
   ],
   "source": [
    "text = \"Hello,Jafar\"\n",
    "fruits = text.split(\",\")\n",
    "\n",
    "print(fruits)  # Output: ['apple', 'banana', 'cherry']"
   ]
  },
  {
   "cell_type": "code",
   "execution_count": 49,
   "metadata": {},
   "outputs": [
    {
     "name": "stdout",
     "output_type": "stream",
     "text": [
      "Hello,Jafar\n"
     ]
    }
   ],
   "source": [
    "text = \",\".join(fruits)\n",
    "print(text)"
   ]
  },
  {
   "cell_type": "markdown",
   "metadata": {},
   "source": [
    "Here is an exercise on strings in Python:\n",
    "\n",
    "Create a variable called sentence and assign it a string value of your choice.\n",
    "\n",
    "Print the length of the sentence using the ```len()``` function.\n",
    "\n",
    "Print the first character of the sentence using indexing.\n",
    "\n",
    "Print the last character of the sentence using negative indexing.\n",
    "\n",
    "Use slicing to print the first 3 characters of the sentence.\n",
    "\n",
    "Use slicing to print the last 3 characters of the sentence.\n",
    "\n",
    "Use the ```split()``` method to split the sentence into a list of words and print it.\n",
    "\n",
    "Use the ```join()``` method to join the list of words back into a single string and print it.\n",
    "\n",
    "Use the ```replace()``` method to replace a specific word in the sentence with another word and print the modified sentence.\n",
    "\n",
    "Use string concatenation to create a new sentence by combining two existing sentences and print it.\n",
    "\n",
    "Feel free to modify the exercise or add more tasks to practice working with strings in Python."
   ]
  },
  {
   "cell_type": "code",
   "execution_count": 53,
   "metadata": {},
   "outputs": [
    {
     "name": "stdout",
     "output_type": "stream",
     "text": [
      "{'name': 'John', 'age': 35, 'city': 'New York', 'job': 'Python Developer', 'SoF': 'Ikeja'}\n"
     ]
    }
   ],
   "source": [
    "my_dict = {\n",
    "\"name\": \"John\", \n",
    "\"age\": 30, \n",
    "\"city\": \"New York\"\n",
    "}\n",
    "\n",
    "\n",
    "name = my_dict[\"name\"]\n",
    "my_dict[\"job\"] = 'Python Developer'\n",
    "my_dict['SoF'] = 'Ikeja' \n",
    "my_dict['age'] = 35\n",
    "print(my_dict)"
   ]
  }
 ],
 "metadata": {
  "kernelspec": {
   "display_name": "base",
   "language": "python",
   "name": "python3"
  },
  "language_info": {
   "codemirror_mode": {
    "name": "ipython",
    "version": 3
   },
   "file_extension": ".py",
   "mimetype": "text/x-python",
   "name": "python",
   "nbconvert_exporter": "python",
   "pygments_lexer": "ipython3",
   "version": "3.11.5"
  }
 },
 "nbformat": 4,
 "nbformat_minor": 2
}
