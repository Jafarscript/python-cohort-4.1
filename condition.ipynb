{
 "cells": [
  {
   "cell_type": "code",
   "execution_count": 1,
   "metadata": {},
   "outputs": [
    {
     "data": {
      "text/plain": [
       "63"
      ]
     },
     "execution_count": 1,
     "metadata": {},
     "output_type": "execute_result"
    }
   ],
   "source": [
    "def subtract_numbers(a,b):\n",
    "    if a > b:\n",
    "        return a -b\n",
    "    else:\n",
    "        return b - a\n",
    "\n",
    "subtract_numbers(9,72)"
   ]
  },
  {
   "cell_type": "code",
   "execution_count": 17,
   "metadata": {},
   "outputs": [],
   "source": [
    "jafar = 10 # declare jafar as a variable then assigned 10 to it as it value"
   ]
  },
  {
   "cell_type": "code",
   "execution_count": 18,
   "metadata": {},
   "outputs": [
    {
     "data": {
      "text/plain": [
       "True"
      ]
     },
     "execution_count": 18,
     "metadata": {},
     "output_type": "execute_result"
    }
   ],
   "source": [
    "jafar == 10 # testing if jafar is equal to 10"
   ]
  },
  {
   "cell_type": "code",
   "execution_count": 19,
   "metadata": {},
   "outputs": [
    {
     "data": {
      "text/plain": [
       "False"
      ]
     },
     "execution_count": 19,
     "metadata": {},
     "output_type": "execute_result"
    }
   ],
   "source": [
    "jafar != 10  # testing if jafar is not equal to 10"
   ]
  },
  {
   "cell_type": "code",
   "execution_count": 20,
   "metadata": {},
   "outputs": [
    {
     "data": {
      "text/plain": [
       "True"
      ]
     },
     "execution_count": 20,
     "metadata": {},
     "output_type": "execute_result"
    }
   ],
   "source": [
    "jafar > 9  # testing if jafar greater than 9"
   ]
  },
  {
   "cell_type": "code",
   "execution_count": 21,
   "metadata": {},
   "outputs": [
    {
     "data": {
      "text/plain": [
       "False"
      ]
     },
     "execution_count": 21,
     "metadata": {},
     "output_type": "execute_result"
    }
   ],
   "source": [
    "jafar < 10 # testing if jafar less than 10"
   ]
  },
  {
   "cell_type": "code",
   "execution_count": 7,
   "metadata": {},
   "outputs": [
    {
     "data": {
      "text/plain": [
       "True"
      ]
     },
     "execution_count": 7,
     "metadata": {},
     "output_type": "execute_result"
    }
   ],
   "source": [
    "jafar <= 10 # # testing if jafar less than or equal to 10"
   ]
  },
  {
   "cell_type": "code",
   "execution_count": 8,
   "metadata": {},
   "outputs": [
    {
     "data": {
      "text/plain": [
       "True"
      ]
     },
     "execution_count": 8,
     "metadata": {},
     "output_type": "execute_result"
    }
   ],
   "source": [
    "jafar >= 8 # testing if jafar greater than or equal to 8"
   ]
  },
  {
   "cell_type": "code",
   "execution_count": 9,
   "metadata": {},
   "outputs": [
    {
     "data": {
      "text/plain": [
       "False"
      ]
     },
     "execution_count": 9,
     "metadata": {},
     "output_type": "execute_result"
    }
   ],
   "source": [
    "jafar >= 11"
   ]
  },
  {
   "cell_type": "code",
   "execution_count": 10,
   "metadata": {},
   "outputs": [
    {
     "data": {
      "text/plain": [
       "True"
      ]
     },
     "execution_count": 10,
     "metadata": {},
     "output_type": "execute_result"
    }
   ],
   "source": [
    "jafar >= 11 or jafar == 10"
   ]
  },
  {
   "cell_type": "code",
   "execution_count": 11,
   "metadata": {},
   "outputs": [
    {
     "data": {
      "text/plain": [
       "False"
      ]
     },
     "execution_count": 11,
     "metadata": {},
     "output_type": "execute_result"
    }
   ],
   "source": [
    "jafar >= 11 and jafar == 9"
   ]
  },
  {
   "cell_type": "code",
   "execution_count": 14,
   "metadata": {},
   "outputs": [
    {
     "data": {
      "text/plain": [
       "True"
      ]
     },
     "execution_count": 14,
     "metadata": {},
     "output_type": "execute_result"
    }
   ],
   "source": [
    "jafar == 10 and jafar != 9 "
   ]
  },
  {
   "cell_type": "code",
   "execution_count": 24,
   "metadata": {},
   "outputs": [
    {
     "data": {
      "text/plain": [
       "True"
      ]
     },
     "execution_count": 24,
     "metadata": {},
     "output_type": "execute_result"
    }
   ],
   "source": [
    "not jafar == 9"
   ]
  },
  {
   "cell_type": "code",
   "execution_count": 27,
   "metadata": {},
   "outputs": [
    {
     "name": "stdout",
     "output_type": "stream",
     "text": [
      "No\n"
     ]
    }
   ],
   "source": [
    "if not jafar > 9: \n",
    "    print(\"Yes\")\n",
    "else:\n",
    "    print(\"No\")"
   ]
  },
  {
   "cell_type": "code",
   "execution_count": 29,
   "metadata": {},
   "outputs": [
    {
     "name": "stdout",
     "output_type": "stream",
     "text": [
      "10 is greater than 9\n"
     ]
    }
   ],
   "source": [
    "a = 10\n",
    "b = 9\n",
    "\n",
    "if a > b:\n",
    "    print(a, \"is greater than\", b)\n",
    "else:\n",
    "    print(b, \"is greater than\", a)"
   ]
  },
  {
   "cell_type": "code",
   "execution_count": 30,
   "metadata": {},
   "outputs": [
    {
     "name": "stdout",
     "output_type": "stream",
     "text": [
      "Bola and Jeffery are not the same\n"
     ]
    }
   ],
   "source": [
    "bola = \"goat\"\n",
    "jeffery = \"cow\"\n",
    "\n",
    "if bola == \"goat\" and jeffery == \"goat\":\n",
    "    print('Bola and Jeffery are the same')\n",
    "elif bola == \"cow\":\n",
    "    print('Bola is a cow')\n",
    "elif jeffery == 'man':\n",
    "    print('Jeffery is a man')\n",
    "else:\n",
    "    print('Bola and Jeffery are not the same')"
   ]
  },
  {
   "cell_type": "markdown",
   "metadata": {},
   "source": [
    "1. **Even or Odd:**\n",
    "\n",
    "   Write a Python program that takes an integer input from the user and prints whether it's even or odd.\n",
    "\n",
    "2. **Largest Number:**\n",
    "\n",
    "   Create a program that takes three numbers as input and prints the largest among them.\n",
    "\n",
    "3. **Positive, Negative, or Zero:**\n",
    "\n",
    "   Write a Python program that takes an integer input and prints whether it's positive, negative, or zero.\n",
    "\n",
    "4. **Leap Year:**\n",
    "\n",
    "   Create a program that takes a year as input and prints whether it's a leap year or not.\n",
    "\n",
    "5. **Grading System:**\n",
    "\n",
    "   Write a Python program that takes a student's score as input and prints their grade according to the following criteria:\n",
    "\n",
    "   - Score >= 90: A\n",
    "   - 80 <= Score < 90: B\n",
    "   - 70 <= Score < 80: C\n",
    "   - 60 <= Score < 70: D\n",
    "   - Score < 60: F\n",
    "\n",
    "6. **Triangle Type:**\n",
    "\n",
    "   Create a program that takes three integers as input representing the sides of a triangle and prints whether it's equilateral, isosceles, or scalene.\n",
    "\n",
    "7. **Vowel or Consonant:**\n",
    "\n",
    "   Write a Python program that takes a single character as input and prints whether it's a vowel or a consonant.\n",
    "\n",
    "8. **Age Group:**\n",
    "\n",
    "   Create a program that takes a person's age as input and prints their age group:\n",
    "\n",
    "   - Age <= 12: Child\n",
    "   - 13 <= Age <= 19: Teenager\n",
    "   - 20 <= Age <= 59: Adult\n",
    "   - Age >= 60: Senior Citizen\n",
    "\n",
    "9. **Quadratic Equation Roots:**\n",
    "\n",
    "   Write a Python program that takes three coefficients (a, b, c) of a quadratic equation as input and prints its roots.\n",
    "\n",
    "10. **Temperature Converter:**\n",
    "\n",
    "    Create a program that takes a temperature value and its unit (Celsius or Fahrenheit) as input and converts it to the other unit.\n"
   ]
  },
  {
   "cell_type": "code",
   "execution_count": 33,
   "metadata": {},
   "outputs": [
    {
     "name": "stdout",
     "output_type": "stream",
     "text": [
      "6217543 is odd.\n",
      "114 is even.\n"
     ]
    }
   ],
   "source": [
    "def even_or_odd(num):\n",
    "    if num % 2 == 0:\n",
    "        print (num, \"is even.\")\n",
    "    else:\n",
    "        print(num, \"is odd.\")\n",
    "\n",
    "even_or_odd(6217543)\n",
    "even_or_odd(114)"
   ]
  },
  {
   "cell_type": "code",
   "execution_count": 36,
   "metadata": {},
   "outputs": [
    {
     "data": {
      "text/plain": [
       "(789, 'is the largest number')"
      ]
     },
     "execution_count": 36,
     "metadata": {},
     "output_type": "execute_result"
    }
   ],
   "source": [
    "def max(a, b, c):\n",
    "    if a > b and a > c:\n",
    "        return a,\"is the largest number\"\n",
    "    elif b > a and b > c:\n",
    "        return b,\"is the largest number\"\n",
    "    else:\n",
    "        return c,\"is the largest number\"\n",
    "\n",
    "\n",
    "max(5,7,1)\n",
    "max(25,75,789)"
   ]
  },
  {
   "cell_type": "code",
   "execution_count": 50,
   "metadata": {},
   "outputs": [
    {
     "name": "stdout",
     "output_type": "stream",
     "text": [
      "Zero\n"
     ]
    }
   ],
   "source": [
    "b = 0\n",
    "\n",
    "\n",
    "\n",
    "if b > 0:\n",
    "    print(\"Positive\")\n",
    "elif b < 0:\n",
    "    print(\"Negative\")\n",
    "else:\n",
    "    print(\"Zero\")\n",
    "\n",
    "\n",
    "\n"
   ]
  },
  {
   "cell_type": "code",
   "execution_count": 54,
   "metadata": {},
   "outputs": [
    {
     "name": "stdout",
     "output_type": "stream",
     "text": [
      "1538 is even.\n"
     ]
    }
   ],
   "source": [
    "num = int(input(\"Enter a number\"))\n",
    "if num % 2 == 0:\n",
    "        print (num, \"is even.\")\n",
    "else:\n",
    "        print(num, \"is odd.\")"
   ]
  },
  {
   "cell_type": "code",
   "execution_count": 2,
   "metadata": {},
   "outputs": [
    {
     "data": {
      "text/plain": [
       "'F'"
      ]
     },
     "execution_count": 2,
     "metadata": {},
     "output_type": "execute_result"
    }
   ],
   "source": [
    "def grading_system():\n",
    "    student_score = int(input(\"Enter student's score\"))\n",
    "    \n",
    "\n",
    "    if student_score > 100:\n",
    "        return (\"Invalid score, score should not exceed 100\")\n",
    "    elif student_score >= 90:\n",
    "        return (\"A\")\n",
    "    elif student_score >= 80 and student_score < 90:\n",
    "        return (\"B\")\n",
    "    elif student_score >= 70 and student_score < 80:\n",
    "        return ('C')\n",
    "    elif student_score >= 60 and student_score < 70:\n",
    "         return (\"D\")\n",
    "    else:\n",
    "       return \"F\"\n",
    "\n",
    "\n",
    "grading_system()"
   ]
  },
  {
   "cell_type": "code",
   "execution_count": 3,
   "metadata": {},
   "outputs": [
    {
     "data": {
      "text/plain": [
       "'F'"
      ]
     },
     "execution_count": 3,
     "metadata": {},
     "output_type": "execute_result"
    }
   ],
   "source": [
    "grading_system()"
   ]
  },
  {
   "cell_type": "code",
   "execution_count": 25,
   "metadata": {},
   "outputs": [],
   "source": [
    "def triangle_type(side1, side2, side3):\n",
    "\n",
    "    if side1 == side2 and side1 == side3: # all sides must be equal\n",
    "        return \"This is an equilateral triangle\"\n",
    "    elif side1 == side2 or side2 == side3 or side1 == side3: # two sides must be equal\n",
    "        return \"The is an isoceles triangle\"\n",
    "    else:\n",
    "        return \"This is a scalene triangle\""
   ]
  },
  {
   "cell_type": "code",
   "execution_count": 10,
   "metadata": {},
   "outputs": [
    {
     "data": {
      "text/plain": [
       "'This is an equilateral triangle'"
      ]
     },
     "execution_count": 10,
     "metadata": {},
     "output_type": "execute_result"
    }
   ],
   "source": [
    "triangle_type(6,6,6)"
   ]
  },
  {
   "cell_type": "code",
   "execution_count": 2,
   "metadata": {},
   "outputs": [],
   "source": [
    "def vowel_cosonnant_checker():\n",
    "    try:\n",
    "        char = input('Enter a single Character')\n",
    "\n",
    "        if char == 'a' or char == 'e' or char == 'i' or char == 'o' or char == 'u':\n",
    "           return 'This is a vowel letter', char\n",
    "        else:\n",
    "            return \"This is a consonant letter\", char\n",
    "    except Exception as e:\n",
    "        print(e)"
   ]
  },
  {
   "cell_type": "code",
   "execution_count": 3,
   "metadata": {},
   "outputs": [
    {
     "data": {
      "text/plain": [
       "('This is a consonant letter', '8uu4')"
      ]
     },
     "execution_count": 3,
     "metadata": {},
     "output_type": "execute_result"
    }
   ],
   "source": [
    "vowel_cosonnant_checker()"
   ]
  },
  {
   "cell_type": "code",
   "execution_count": 45,
   "metadata": {},
   "outputs": [
    {
     "name": "stdout",
     "output_type": "stream",
     "text": [
      "Child\n"
     ]
    }
   ],
   "source": [
    "age = 10\n",
    "\n",
    "if age >= 60:\n",
    "    print('Senior Citizen')\n",
    "elif age <=59 and age >= 20:\n",
    "    print('Adult')\n",
    "elif age <= 19 and age >=13:\n",
    "    print('Teenager')\n",
    "else:\n",
    "    print(\"Child\")"
   ]
  },
  {
   "cell_type": "code",
   "execution_count": 47,
   "metadata": {},
   "outputs": [],
   "source": [
    "def age_grouping(age):\n",
    "    \n",
    "   if age >= 60:\n",
    "       print('Senior Citizen')\n",
    "   elif age <=59 and age >= 20:\n",
    "        print('Adult')\n",
    "   elif age <= 19 and age >=13:\n",
    "       print('Teenager')\n",
    "   else:\n",
    "       print(\"Child\")\n",
    "\n",
    "\n"
   ]
  },
  {
   "cell_type": "code",
   "execution_count": 48,
   "metadata": {},
   "outputs": [
    {
     "name": "stdout",
     "output_type": "stream",
     "text": [
      "Child\n"
     ]
    }
   ],
   "source": [
    "age_grouping(9)"
   ]
  },
  {
   "cell_type": "code",
   "execution_count": 95,
   "metadata": {},
   "outputs": [],
   "source": [
    "def temperature_converter():\n",
    "\n",
    "    temp = int(input('Enter your temperature value'))\n",
    "    degree = int(input(\"Choose the temperature unit \\n 1. Celcius \\n 2. Fahrenheit\"))\n",
    "\n",
    "    if degree == 1:\n",
    "        return(temp,\"degree Fahrenheit to Celcius is\", (temp - 32) * 5/9)\n",
    "    elif degree == 2:\n",
    "        return(temp,\" degree Celcius to Fahrenheit to Celcius is\", (9/5 * temp) + 32)\n",
    "    else:\n",
    "        return \"Invalid input, enter the correct input\"\n"
   ]
  },
  {
   "cell_type": "code",
   "execution_count": 94,
   "metadata": {},
   "outputs": [],
   "source": [
    "temperature_converter()"
   ]
  },
  {
   "cell_type": "code",
   "execution_count": 102,
   "metadata": {},
   "outputs": [
    {
     "name": "stdout",
     "output_type": "stream",
     "text": [
      "e\n"
     ]
    }
   ],
   "source": [
    "vowels = ['a', 'e', 'i', 'o', 'u']\n",
    "\n",
    "print(vowels[1])"
   ]
  },
  {
   "cell_type": "code",
   "execution_count": 108,
   "metadata": {},
   "outputs": [
    {
     "name": "stdout",
     "output_type": "stream",
     "text": [
      "['a', 'e', 'i']\n"
     ]
    }
   ],
   "source": [
    "print(vowels[:3])"
   ]
  },
  {
   "cell_type": "code",
   "execution_count": 114,
   "metadata": {},
   "outputs": [],
   "source": [
    "fruits = [\"apple\", \"banana\", \"cherry\"]\n",
    "fruits[1] = \"grape\"  # Modify the second element\n",
    "fruits[0] = 'orange'"
   ]
  },
  {
   "cell_type": "code",
   "execution_count": 112,
   "metadata": {},
   "outputs": [
    {
     "name": "stdout",
     "output_type": "stream",
     "text": [
      "['orange', 'grape', 'cherry']\n"
     ]
    }
   ],
   "source": [
    "print(fruits)"
   ]
  }
 ],
 "metadata": {
  "kernelspec": {
   "display_name": "base",
   "language": "python",
   "name": "python3"
  },
  "language_info": {
   "codemirror_mode": {
    "name": "ipython",
    "version": 3
   },
   "file_extension": ".py",
   "mimetype": "text/x-python",
   "name": "python",
   "nbconvert_exporter": "python",
   "pygments_lexer": "ipython3",
   "version": "3.11.5"
  }
 },
 "nbformat": 4,
 "nbformat_minor": 2
}
