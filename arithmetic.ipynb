{
 "cells": [
  {
   "cell_type": "code",
   "execution_count": 21,
   "metadata": {},
   "outputs": [
    {
     "name": "stdout",
     "output_type": "stream",
     "text": [
      "5\n",
      "-33\n",
      "0.4107142857142857\n",
      "1288\n",
      "23\n",
      "529\n"
     ]
    }
   ],
   "source": [
    "# + , -, /, *, %, **\n",
    "\n",
    "# print(23 + 56)\n",
    "addition(50, 45)\n",
    "print(23 - 56)\n",
    "print(23 / 56)\n",
    "print(23 * 56)\n",
    "print(23 % 56)\n",
    "print(23 ** 15) #23 ^ 10"
   ]
  },
  {
   "cell_type": "code",
   "execution_count": 11,
   "metadata": {},
   "outputs": [
    {
     "name": "stdout",
     "output_type": "stream",
     "text": [
      "101\n",
      "10\n"
     ]
    }
   ],
   "source": [
    "print(45+ 56)\n",
    "print(56 - 46)\n",
    "\n",
    "parameter2 = 65\n",
    "parameter3 = 5\n",
    "\n",
    "addition = parameter3\n"
   ]
  },
  {
   "cell_type": "code",
   "execution_count": 9,
   "metadata": {},
   "outputs": [],
   "source": [
    "def pop():\n",
    "    return mylist.remove('go')\n",
    "\n",
    "    "
   ]
  },
  {
   "cell_type": "code",
   "execution_count": 10,
   "metadata": {},
   "outputs": [
    {
     "name": "stdout",
     "output_type": "stream",
     "text": [
      "7\n"
     ]
    }
   ],
   "source": [
    "sum = addition(3,4)\n",
    "print(sum)"
   ]
  },
  {
   "cell_type": "code",
   "execution_count": 48,
   "metadata": {},
   "outputs": [
    {
     "name": "stdout",
     "output_type": "stream",
     "text": [
      "615\n",
      "The function addition result is None\n"
     ]
    }
   ],
   "source": [
    "sum_result = addition(45, 570)\n",
    "\n",
    "\n",
    "print(\"The function addition result is\",sum_result)"
   ]
  },
  {
   "cell_type": "code",
   "execution_count": 39,
   "metadata": {},
   "outputs": [
    {
     "name": "stdout",
     "output_type": "stream",
     "text": [
      "Hello, Alice!\n"
     ]
    }
   ],
   "source": [
    "def greet(name):\n",
    "    return f\"Hello, {name}!\"\n",
    "\n",
    "message = greet(\"Alice\")  # Here, \"Alice\" is an argument.\n",
    "print(message)"
   ]
  },
  {
   "cell_type": "markdown",
   "metadata": {},
   "source": [
    "3. **Function to Multiply Two Numbers:**\n",
    "\n",
    "   Define a function called `multiply_numbers` that takes two parameters and returns their product.\n",
    "\n",
    "4. **Function to Divide Two Numbers:**\n",
    "\n",
    "   Write a function named `divide_numbers` that takes two parameters and returns the result of dividing the first number by the second.\n",
    "\n",
    "5. **Function to Calculate the Square of a Number:**\n",
    "\n",
    "   Create a function called `square_number` that accepts a number as input and returns its square.\n",
    "\n",
    "6. **Function to Calculate the Cube of a Number:**\n",
    "\n",
    "   Define a function named `cube_number` that takes a number as input and returns its cube.\n",
    "\n",
    "7. **Function to Calculate the Area of a Rectangle:**\n",
    "\n",
    "   Write a Python function named `rectangle_area` that takes the length and width of a rectangle as parameters and returns its area.\n",
    "\n",
    "8. **Function to Calculate the Area of a Circle:**\n",
    "\n",
    "   Create a function called `circle_area` that accepts the radius of a circle as input and returns its area.\n",
    "\n",
    "9. **Function to Calculate the Perimeter of a Square:**\n",
    "\n",
    "   Define a function named `square_perimeter` that takes the length of a side of a square as input and returns its perimeter.\n",
    "\n",
    "10. **Function to Calculate the Perimeter of a Triangle:**\n",
    "\n",
    "    Write a function called `triangle_perimeter` that takes the lengths of the three sides of a triangle as parameters and returns its perimeter."
   ]
  },
  {
   "cell_type": "code",
   "execution_count": 49,
   "metadata": {},
   "outputs": [
    {
     "data": {
      "text/plain": [
       "395"
      ]
     },
     "execution_count": 49,
     "metadata": {},
     "output_type": "execute_result"
    }
   ],
   "source": [
    "def multiply_numbers(a,b):\n",
    "    return a * b\n",
    "\n",
    "multiply_numbers(5,79)"
   ]
  },
  {
   "cell_type": "code",
   "execution_count": 50,
   "metadata": {},
   "outputs": [
    {
     "data": {
      "text/plain": [
       "5.0"
      ]
     },
     "execution_count": 50,
     "metadata": {},
     "output_type": "execute_result"
    }
   ],
   "source": [
    "def divide_numbers(a,b):\n",
    "    return a / b\n",
    "\n",
    "divide_numbers(15,3)"
   ]
  },
  {
   "cell_type": "code",
   "execution_count": 51,
   "metadata": {},
   "outputs": [
    {
     "data": {
      "text/plain": [
       "6084"
      ]
     },
     "execution_count": 51,
     "metadata": {},
     "output_type": "execute_result"
    }
   ],
   "source": [
    "def square_number(a):\n",
    "    return a ** 2  # a^2\n",
    "\n",
    "square_number(78)"
   ]
  },
  {
   "cell_type": "code",
   "execution_count": 52,
   "metadata": {},
   "outputs": [
    {
     "data": {
      "text/plain": [
       "474552"
      ]
     },
     "execution_count": 52,
     "metadata": {},
     "output_type": "execute_result"
    }
   ],
   "source": [
    "def cube_number(a):\n",
    "    return a ** 3\n",
    "\n",
    "cube_number(78)"
   ]
  },
  {
   "cell_type": "code",
   "execution_count": 53,
   "metadata": {},
   "outputs": [
    {
     "data": {
      "text/plain": [
       "72"
      ]
     },
     "execution_count": 53,
     "metadata": {},
     "output_type": "execute_result"
    }
   ],
   "source": [
    "def reactangle_area(l,b):\n",
    "    return l * b\n",
    "reactangle_area(12,6)"
   ]
  },
  {
   "cell_type": "code",
   "execution_count": 54,
   "metadata": {},
   "outputs": [
    {
     "data": {
      "text/plain": [
       "78.55"
      ]
     },
     "execution_count": 54,
     "metadata": {},
     "output_type": "execute_result"
    }
   ],
   "source": [
    "def circle_area(r):\n",
    "    return 3.142 * r**2\n",
    "circle_area(5)"
   ]
  },
  {
   "cell_type": "code",
   "execution_count": 55,
   "metadata": {},
   "outputs": [
    {
     "data": {
      "text/plain": [
       "28"
      ]
     },
     "execution_count": 55,
     "metadata": {},
     "output_type": "execute_result"
    }
   ],
   "source": [
    "def square_perimeter(l):\n",
    "    return 4*l\n",
    "square_perimeter(7)"
   ]
  },
  {
   "cell_type": "code",
   "execution_count": 56,
   "metadata": {},
   "outputs": [
    {
     "data": {
      "text/plain": [
       "20"
      ]
     },
     "execution_count": 56,
     "metadata": {},
     "output_type": "execute_result"
    }
   ],
   "source": [
    "def triangle_perimeter(a,b,c):\n",
    "    return a + b + c\n",
    "triangle_perimeter(5,6,9)"
   ]
  }
 ],
 "metadata": {
  "kernelspec": {
   "display_name": "base",
   "language": "python",
   "name": "python3"
  },
  "language_info": {
   "codemirror_mode": {
    "name": "ipython",
    "version": 3
   },
   "file_extension": ".py",
   "mimetype": "text/x-python",
   "name": "python",
   "nbconvert_exporter": "python",
   "pygments_lexer": "ipython3",
   "version": "3.11.5"
  }
 },
 "nbformat": 4,
 "nbformat_minor": 2
}
